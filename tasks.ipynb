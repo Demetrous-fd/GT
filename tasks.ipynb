{
 "cells": [
  {
   "cell_type": "markdown",
   "metadata": {},
   "source": [
    "# Задачки для стажера"
   ]
  },
  {
   "cell_type": "markdown",
   "metadata": {
    "collapsed": false
   },
   "source": [
    "### 1. Какие шаги ты бы предпринял, если бы пользователь сказал, что API возвращает ему ошибку 500?\n",
    "\n",
    "#### Решение\n",
    "1. Спросил бы у пользователя: какой метод API вызывался, в какой отрезок время был сделан запрос и его request-id;\n",
    "2. В системе логирования сделал бы запрос со следующими значениями: временной отрезок и request-id пользователя;\n",
    "3. Просмотрел бы последовательность действий пользователя до появления ошибки и изучил бы лог ошибки;\n",
    "4. Дальше если это баг в кодовой базе, то написал бы отчет о баге и если в моих силах это исправить, то сделал бы pull request на исправление ошибки\n",
    "5. Если я понятия не имею из-за чего произошла ошибка, то обратился бы к куратору(наставнику) или коллегам за помощью"
   ]
  },
  {
   "cell_type": "markdown",
   "metadata": {},
   "source": [
    "### 2. Какие ты видишь проблемы в следующем фрагменте кода ? Как его следует исправить ? Исправь ошибку и перепиши код ниже с использованием типизации.\n",
    "```python\n",
    "def create_handlers(callback):\n",
    "    handlers = []\n",
    "    for step in range(5):\n",
    "        # добавляем обработчики для каждого шага (от 0 до 4)\n",
    "        handlers.append(lambda: callback(step))\n",
    "    return handlers\n",
    "\n",
    "def execute_handlers(handlers):\n",
    "    # запускаем добавленные обработчики (шаги от 0 до 4)\n",
    "    for handler in handlers:\n",
    "        handler()\n",
    "```\n",
    "\n",
    "#### Решение\n",
    "Когда в цикле создается обработчик в него передается не значение локальной переменной step, а ссылка, из-за этого при выполнении обработчиков используется последние значение переменной step.\n",
    "Это можно исправить применив функцию partial из модуля functools, он оборачивает функцию с аргументами и при вызове явно передает аргументы в функцию.\n",
    "- https://stackoverflow.com/a/34021333\n",
    "- https://docs.python.org/3.4/faq/programming.html#why-do-lambdas-defined-in-a-loop-with-different-values-all-return-the-same-result"
   ]
  },
  {
   "cell_type": "code",
   "execution_count": 97,
   "metadata": {},
   "outputs": [
    {
     "name": "stdout",
     "output_type": "stream",
     "text": [
      "0 140715437135600\n",
      "1 140715437135632\n",
      "2 140715437135664\n",
      "3 140715437135696\n",
      "4 140715437135728\n"
     ]
    }
   ],
   "source": [
    "from typing import Callable, List\n",
    "from functools import partial\n",
    "\n",
    "\n",
    "def create_handlers(callback: Callable) -> List[Callable]:\n",
    "    handlers = []\n",
    "    for step in range(5):\n",
    "        # добавляем обработчики для каждого шага (от 0 до 4)\n",
    "        handlers.append(partial(callback, step))\n",
    "    return handlers\n",
    "\n",
    "\n",
    "def execute_handlers(handlers: List[Callable]) -> None:\n",
    "    # запускаем добавленные обработчики (шаги от 0 до 4)\n",
    "    for handler in handlers:\n",
    "        handler()\n",
    "\n",
    "\n",
    "handlers = create_handlers(lambda x: print(x, id(x)))\n",
    "execute_handlers(handlers)\n"
   ]
  },
  {
   "cell_type": "markdown",
   "metadata": {},
   "source": [
    "### 3. Сколько HTML-тегов в коде главной страницы сайта greenatom.ru ? Сколько из них содержит атрибуты ? Напишите скрипт на Python, который выводит ответы на вопросы выше."
   ]
  },
  {
   "cell_type": "code",
   "execution_count": 98,
   "metadata": {},
   "outputs": [
    {
     "name": "stdout",
     "output_type": "stream",
     "text": [
      "Сайта: https://greenatom.ru/\n",
      "Количество тегов на странице: 774\n",
      "Количество тегов с атрибутами на странице: 478\n"
     ]
    }
   ],
   "source": [
    "from bs4 import BeautifulSoup\n",
    "import requests\n",
    "\n",
    "url = r\"https://greenatom.ru/\"\n",
    "headers = {\"User-agent\": \"Mozilla/5.0 (Windows; U; Windows NT 6.1) AppleWebKit/534.5.7 (KHTML, like Gecko) Version/5.1 Safari/534.5.7\"}\n",
    "response = requests.get(url, headers=headers)\n",
    "\n",
    "soup = BeautifulSoup(response.text, \"html.parser\")\n",
    "\n",
    "tags_count = len(soup.find_all())\n",
    "tags_with_attr_count = len(soup.find_all(lambda tag: tag.attrs))\n",
    "\n",
    "print(f\"Сайта: {url}\")\n",
    "print(f\"Количество HTML-тегов на странице: {tags_count}\")\n",
    "print(f\"Количество HTML-тегов с атрибутами на странице: {tags_with_attr_count}\")"
   ]
  },
  {
   "cell_type": "markdown",
   "metadata": {},
   "source": [
    "### 4. Напиши функцию на Python, которая возвращает текущий публичный IP-адрес компьютера (например, с использованием сервиса ifconfig.me)."
   ]
  },
  {
   "cell_type": "code",
   "execution_count": null,
   "metadata": {},
   "outputs": [],
   "source": [
    "import requests\n",
    "\n",
    "url = r\"https://ifconfig.me/ip\"\n",
    "headers = {\"User-agent\": \"Mozilla/5.0 (Windows; U; Windows NT 6.1) AppleWebKit/534.5.7 (KHTML, like Gecko) Version/5.1 Safari/534.5.7\"}\n",
    "response = requests.get(url, headers=headers)\n",
    "\n",
    "print(f\"Ваш IP: {response.text}\")"
   ]
  },
  {
   "cell_type": "markdown",
   "metadata": {},
   "source": [
    "### 5. Напиши функцию на Python, выполняющую сравнение версий\n",
    "Условия:\n",
    "- Return -1 if version A is older than version B\n",
    "- Return 0 if versions A and B are equivalent\n",
    "- Return 1 if version A is newer than version B\n",
    "- Each subsection is supposed to be interpreted as a number, therefore 1.10 > 1.1."
   ]
  },
  {
   "cell_type": "code",
   "execution_count": 3,
   "metadata": {},
   "outputs": [
    {
     "name": "stdout",
     "output_type": "stream",
     "text": [
      "Each subsection is supposed to be interpreted as a number.\n",
      "Present this values: version_a='3.7'; version_b='3.7a';\n"
     ]
    }
   ],
   "source": [
    "def compare_versions(version_a: str, version_b: str) -> int:\n",
    "    _version_a = version_a.split(\".\")\n",
    "    _version_b = version_b.split(\".\")\n",
    "\n",
    "    try:\n",
    "        _version_a = tuple(map(int, _version_a))\n",
    "        _version_b = tuple(map(int, _version_b))\n",
    "    except ValueError:\n",
    "        raise ValueError(\n",
    "            \"Each subsection is supposed to be interpreted as a number.\\n\"\n",
    "            f\"Present this values: {version_a=}; {version_b=};\"\n",
    "        )\n",
    "\n",
    "    if _version_a < _version_b:\n",
    "        return -1\n",
    "    \n",
    "    elif _version_a > _version_b:\n",
    "        return 1\n",
    "\n",
    "    elif _version_a == _version_b:\n",
    "        return 0\n",
    "\n",
    "\n",
    "assert compare_versions(\"3.10\", \"3.7.3\") == 1\n",
    "assert compare_versions(\"3.7\", \"3.7.1\") == -1\n",
    "assert compare_versions(\"3.7\", \"3.7\") == 0\n",
    "try:\n",
    "    compare_versions(\"3.7\", \"3.7a\")\n",
    "except ValueError as ex:\n",
    "    print(ex)"
   ]
  }
 ],
 "metadata": {
  "kernelspec": {
   "display_name": "Python 3.8.10 64-bit",
   "language": "python",
   "name": "python3"
  },
  "language_info": {
   "codemirror_mode": {
    "name": "ipython",
    "version": 3
   },
   "file_extension": ".py",
   "mimetype": "text/x-python",
   "name": "python",
   "nbconvert_exporter": "python",
   "pygments_lexer": "ipython3",
   "version": "3.8.10"
  },
  "vscode": {
   "interpreter": {
    "hash": "570feb405e2e27c949193ac68f46852414290d515b0ba6e5d90d076ed2284471"
   }
  }
 },
 "nbformat": 4,
 "nbformat_minor": 0
}
